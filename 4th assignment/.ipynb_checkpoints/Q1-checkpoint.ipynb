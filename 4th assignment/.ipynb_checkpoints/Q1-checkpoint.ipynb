{
 "cells": [
  {
   "cell_type": "code",
   "execution_count": 149,
   "metadata": {},
   "outputs": [],
   "source": [
    "import numpy as np\n",
    "from scipy.sparse import spdiags\n",
    "from scipy.sparse import dia_matrix\n",
    "from numpy import linalg as LA"
   ]
  },
  {
   "cell_type": "code",
   "execution_count": 160,
   "metadata": {},
   "outputs": [
    {
     "name": "stdout",
     "output_type": "stream",
     "text": [
      "[[-2048.  1024.     0. ...,     0.     0.  1024.]\n",
      " [ 1024. -2048.  1024. ...,     0.     0.     0.]\n",
      " [    0.  1024. -2048. ...,     0.     0.     0.]\n",
      " ..., \n",
      " [    0.     0.     0. ..., -2048.  1024.     0.]\n",
      " [    0.     0.     0. ...,  1024. -2048.  1024.]\n",
      " [ 1024.     0.     0. ...,     0.  1024. -2048.]]\n",
      "[  0.00000000e+00   1.04118008e-05   2.03973413e-05   2.95478123e-05\n",
      "   3.74885923e-05   4.38945850e-05   4.85035281e-05   5.11267312e-05\n",
      "   5.16567999e-05   5.00720331e-05   4.64373114e-05   4.09014407e-05\n",
      "   3.36910602e-05   2.51013638e-05   1.54840146e-05   5.23274796e-06\n",
      "  -5.23274796e-06  -1.54840146e-05  -2.51013638e-05  -3.36910602e-05\n",
      "  -4.09014407e-05  -4.64373114e-05  -5.00720331e-05  -5.16567999e-05\n",
      "  -5.11267312e-05  -4.85035281e-05  -4.38945850e-05  -3.74885923e-05\n",
      "  -2.95478123e-05  -2.03973413e-05  -1.04118008e-05  -1.26685269e-20]\n"
     ]
    }
   ],
   "source": [
    "#A = [4 ,8, 16, 32]\n",
    "A=  [32]\n",
    "for N in A:\n",
    "    h = 1/N\n",
    "    x = linspace(0,1,N)\n",
    "    u0 = sin(2*pi*x)\n",
    "\n",
    "    L = np.zeros((N,N))\n",
    "\n",
    "    for r in range(N):\n",
    "        for c in range(N):\n",
    "            if(r==c):\n",
    "                L[r,c] = -2\n",
    "            elif (c == r+1):\n",
    "                L[r,c] = 1\n",
    "            elif (c == r-1):\n",
    "                L[r,c] = 1\n",
    "    L[0,N-1] = 1\n",
    "    L[N-1,0] = 1\n",
    "    L = 1/h**2*L;\n",
    "    \n",
    "    Tf = 0.25;\n",
    "    k = 0.25*h**2;\n",
    "    numsteps = ceil(Tf/k)\n",
    "    numsteps = int(numsteps)\n",
    "    k = Tf/numsteps\n",
    "\n",
    "    u = u0;\n",
    "    for n in range(numsteps):\n",
    "        unew = u + k*(L*u);\n",
    "        u = unew;\n",
    "#    print(h)\n",
    "    u_exact = np.exp(-4*pi**2*Tf)*sin(2*pi*x);\n",
    "    print(u_exact)\n",
    "    #print(abs(u - u_exact))"
   ]
  },
  {
   "cell_type": "code",
   "execution_count": 146,
   "metadata": {},
   "outputs": [
    {
     "name": "stdout",
     "output_type": "stream",
     "text": [
      "1.0\n"
     ]
    }
   ],
   "source": [
    "x = linspace(0,1,40)\n",
    "print(max(abs(x)))"
   ]
  }
 ],
 "metadata": {
  "kernelspec": {
   "display_name": "Python 3",
   "language": "python",
   "name": "python3"
  },
  "language_info": {
   "codemirror_mode": {
    "name": "ipython",
    "version": 3
   },
   "file_extension": ".py",
   "mimetype": "text/x-python",
   "name": "python",
   "nbconvert_exporter": "python",
   "pygments_lexer": "ipython3",
   "version": "3.6.3"
  }
 },
 "nbformat": 4,
 "nbformat_minor": 2
}
