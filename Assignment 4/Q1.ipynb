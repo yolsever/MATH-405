{
 "cells": [
  {
   "cell_type": "code",
   "execution_count": 149,
   "metadata": {},
   "outputs": [],
   "source": [
    "import numpy as np\n",
    "from scipy.sparse import spdiags\n",
    "from scipy.sparse import dia_matrix\n",
    "from numpy import linalg as LA"
   ]
  },
  {
   "cell_type": "code",
   "execution_count": 183,
   "metadata": {},
   "outputs": [
    {
     "name": "stdout",
     "output_type": "stream",
     "text": [
      "[[], 0.25]\n",
      "[[], 3.6464397141312364e-05]\n",
      "[[], 0.125]\n",
      "[[], 1.2025583782456486e-05]\n",
      "[[], 0.0625]\n",
      "[[], 3.210318854876223e-06]\n",
      "[[], 0.03125]\n",
      "[[], 8.1565140340189986e-07]\n"
     ]
    }
   ],
   "source": [
    "A = [4 ,8, 16, 32]\n",
    "for N in A:\n",
    "    h = 1/N\n",
    "    x = linspace(0,1-h,N)\n",
    "    u0 = sin(2*pi*x)\n",
    "\n",
    "    L = np.zeros((N,N))\n",
    "\n",
    "    for r in range(N):\n",
    "        for c in range(N):\n",
    "            if(r==c):\n",
    "                L[r,c] = -2\n",
    "            elif (c == r+1):\n",
    "                L[r,c] = 1\n",
    "            elif (c == r-1):\n",
    "                L[r,c] = 1\n",
    "    L[0,N-1] = 1\n",
    "    L[N-1,0] = 1\n",
    "    L = 1/h**2*L;\n",
    "    \n",
    "    Tf = 0.25;\n",
    "    k = 0.25*h**2;\n",
    "    numsteps = ceil(Tf/k)\n",
    "    k = Tf/numsteps\n",
    "    numsteps = int(numsteps)\n",
    " #   print(numsteps)\n",
    "    u = u0;\n",
    "    for n in range(numsteps):\n",
    "        unew = u + k*(np.dot(L,u));\n",
    "        u = unew;\n",
    "    u_exact = e**(-4*pi**2*Tf)*sin(2*pi*x);\n",
    "    error = max(abs(u-u_exact))\n",
    "    h_values = []\n",
    "    error_values = []\n",
    "    h_values = [h_values, h]\n",
    "    error_values = [error_values, error]\n",
    "    print(h_values)\n",
    "    print(error_values)"
   ]
  },
  {
   "cell_type": "code",
   "execution_count": 146,
   "metadata": {},
   "outputs": [
    {
     "name": "stdout",
     "output_type": "stream",
     "text": [
      "1.0\n"
     ]
    }
   ],
   "source": [
    "x = linspace(0,1,40)\n",
    "print(max(abs(x)))"
   ]
  }
 ],
 "metadata": {
  "kernelspec": {
   "display_name": "Python 3",
   "language": "python",
   "name": "python3"
  },
  "language_info": {
   "codemirror_mode": {
    "name": "ipython",
    "version": 3
   },
   "file_extension": ".py",
   "mimetype": "text/x-python",
   "name": "python",
   "nbconvert_exporter": "python",
   "pygments_lexer": "ipython3",
   "version": "3.6.3"
  }
 },
 "nbformat": 4,
 "nbformat_minor": 2
}
